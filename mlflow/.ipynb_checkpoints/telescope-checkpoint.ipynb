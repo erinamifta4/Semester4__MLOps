{
 "cells": [
  {
   "cell_type": "code",
   "execution_count": null,
   "id": "0ff1a8df",
   "metadata": {},
   "outputs": [],
   "source": [
    "import numpy as np\n",
    "import pandas as pd\n",
    "import ydata_profiling as pp\n",
    "from pycaret.classification import *\n",
    "from sklearn.model_selection import train_test_split"
   ]
  },
  {
   "cell_type": "code",
   "execution_count": null,
   "id": "c3e09da5",
   "metadata": {},
   "outputs": [],
   "source": [
    "df = pd.read_csv('telescope.csv')\n",
    "df"
   ]
  },
  {
   "cell_type": "code",
   "execution_count": null,
   "id": "36f64e2f",
   "metadata": {},
   "outputs": [],
   "source": [
    "profile = pp.ProfileReport(df)\n",
    "profile"
   ]
  },
  {
   "cell_type": "code",
   "execution_count": null,
   "id": "b46d8884",
   "metadata": {},
   "outputs": [],
   "source": [
    "train, test = train_test_split(df, test_size=0.2, random_state=3, shuffle=True)"
   ]
  },
  {
   "cell_type": "code",
   "execution_count": null,
   "id": "c40f6ce6",
   "metadata": {},
   "outputs": [],
   "source": [
    "model = setup(train, target = 'Class',\n",
    "              log_experiment = True,\n",
    "              log_plots = True,\n",
    "              experiment_name = 'telescope')"
   ]
  },
  {
   "cell_type": "code",
   "execution_count": null,
   "id": "fa74bfe1",
   "metadata": {},
   "outputs": [],
   "source": [
    "model = compare_models(n_select = 1)"
   ]
  },
  {
   "cell_type": "code",
   "execution_count": null,
   "id": "99860092",
   "metadata": {},
   "outputs": [],
   "source": [
    "tuned_model = tune_model(model)"
   ]
  },
  {
   "cell_type": "code",
   "execution_count": null,
   "id": "e92ab1b8",
   "metadata": {},
   "outputs": [],
   "source": [
    "final_model = finalize_model(tuned_model)"
   ]
  },
  {
   "cell_type": "code",
   "execution_count": null,
   "id": "99d9b76f",
   "metadata": {},
   "outputs": [],
   "source": [
    "save_model(final_model,\"telescope\")"
   ]
  },
  {
   "cell_type": "code",
   "execution_count": null,
   "id": "b8e3e2f4",
   "metadata": {},
   "outputs": [],
   "source": [
    "predictions = predict_model(final_model, data=test)\n",
    "predictions"
   ]
  },
  {
   "cell_type": "code",
   "execution_count": null,
   "id": "0712f40f",
   "metadata": {},
   "outputs": [],
   "source": [
    "evaluate_model(final_model)"
   ]
  },
  {
   "cell_type": "code",
   "execution_count": null,
   "id": "5f34db3b",
   "metadata": {},
   "outputs": [],
   "source": []
  }
 ],
 "metadata": {
  "kernelspec": {
   "display_name": "caret",
   "language": "python",
   "name": "caret"
  },
  "language_info": {
   "codemirror_mode": {
    "name": "ipython",
    "version": 3
   },
   "file_extension": ".py",
   "mimetype": "text/x-python",
   "name": "python",
   "nbconvert_exporter": "python",
   "pygments_lexer": "ipython3",
   "version": "3.8.16"
  }
 },
 "nbformat": 4,
 "nbformat_minor": 5
}
