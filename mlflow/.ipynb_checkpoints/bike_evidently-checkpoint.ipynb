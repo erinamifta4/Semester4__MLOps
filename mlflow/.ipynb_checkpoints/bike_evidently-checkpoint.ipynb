{
 "cells": [
  {
   "cell_type": "code",
   "execution_count": null,
   "id": "acee7719",
   "metadata": {},
   "outputs": [],
   "source": [
    "import pandas as pd\n",
    "\n",
    "from evidently.pipeline.column_mapping import ColumnMapping\n",
    "from evidently.report import Report\n",
    "from evidently.metric_preset import DataDriftPreset\n",
    "\n",
    "import mlflow\n",
    "import mlflow.sklearn\n",
    "from mlflow.tracking import MlflowClient"
   ]
  },
  {
   "cell_type": "code",
   "execution_count": null,
   "id": "308f1c92",
   "metadata": {},
   "outputs": [],
   "source": [
    "df = pd.read_csv('bike.csv')\n",
    "df"
   ]
  },
  {
   "cell_type": "code",
   "execution_count": null,
   "id": "9631352c",
   "metadata": {},
   "outputs": [],
   "source": [
    "df = df.drop(columns=['instant','dteday','yr','mnth','registered','cnt'])\n",
    "df"
   ]
  },
  {
   "cell_type": "code",
   "execution_count": null,
   "id": "619a510c",
   "metadata": {},
   "outputs": [],
   "source": [
    "#set column mapping for Evidently Profile\n",
    "data_columns = ColumnMapping()\n",
    "data_columns.numerical_features = ['temp', 'atemp', 'hum', 'windspeed', 'casual']\n",
    "data_columns.categorical_features = ['season', 'holiday', 'weekday', 'workingday', 'weathersit']"
   ]
  },
  {
   "cell_type": "code",
   "execution_count": null,
   "id": "ae19e82b",
   "metadata": {},
   "outputs": [],
   "source": [
    "#evaluate data drift with Evidently Profile\n",
    "def eval_drift(reference, production, column_mapping):\n",
    "    \"\"\"\n",
    "    Returns a list with pairs (feature_name, drift_score)\n",
    "    Drift Score depends on the selected statistical test or distance and the threshold\n",
    "    \"\"\"    \n",
    "    data_drift_report = Report(metrics=[DataDriftPreset()])\n",
    "    data_drift_report.run(reference_data=reference, current_data=production, column_mapping=column_mapping)\n",
    "    report = data_drift_report.as_dict()\n",
    "\n",
    "    drifts = []\n",
    "\n",
    "    for feature in column_mapping.numerical_features + column_mapping.categorical_features:\n",
    "        drifts.append((feature, report[\"metrics\"][1][\"result\"][\"drift_by_columns\"][feature][\"drift_score\"]))\n",
    "\n",
    "    return drifts"
   ]
  },
  {
   "cell_type": "code",
   "execution_count": null,
   "id": "712feac9",
   "metadata": {},
   "outputs": [],
   "source": [
    "#set reference\n",
    "reference = df.iloc[60:]\n",
    "\n",
    "#set experiment\n",
    "experiment_batches = [\n",
    "    (60,90),\n",
    "    (90,120),\n",
    "    (120,150),\n",
    "    (150,180),\n",
    "]"
   ]
  },
  {
   "cell_type": "code",
   "execution_count": null,
   "id": "b4d50596",
   "metadata": {},
   "outputs": [],
   "source": [
    "#log into MLflow\n",
    "client = MlflowClient()\n",
    "\n",
    "#set experiment\n",
    "mlflow.set_experiment('Data Drift Evaluation with Evidently')\n",
    "\n",
    "#start new run\n",
    "for exp in experiment_batches:\n",
    "    with mlflow.start_run() as run: #inside brackets run_name='test'\n",
    "        \n",
    "        # Log parameters\n",
    "        mlflow.log_param(\"begin\", exp[0])\n",
    "        mlflow.log_param(\"end\", exp[1])\n",
    "\n",
    "        # Log metrics\n",
    "        metrics = eval_drift(reference, \n",
    "                             df.iloc[exp[0]:exp[1]], \n",
    "                             column_mapping=data_columns)\n",
    "        for feature in metrics:\n",
    "            mlflow.log_metric(feature[0], round(feature[1], 3))\n",
    "\n",
    "        print(run.info)"
   ]
  },
  {
   "cell_type": "code",
   "execution_count": null,
   "id": "a95f42de",
   "metadata": {},
   "outputs": [],
   "source": [
    "data_drift_report = Report(metrics=[\n",
    "    DataDriftPreset(),\n",
    "])\n",
    "\n",
    "data_drift_report.run(current_data=df.iloc[60:90], reference_data=df.iloc[60:], column_mapping=data_columns)\n",
    "data_drift_report.show(mode='inline')"
   ]
  },
  {
   "cell_type": "code",
   "execution_count": null,
   "id": "d46e2845",
   "metadata": {},
   "outputs": [],
   "source": [
    "data_drift_report = Report(metrics=[\n",
    "    DataDriftPreset(),\n",
    "])\n",
    "\n",
    "data_drift_report.run(current_data=df.iloc[365:395], reference_data=df.iloc[60:], column_mapping=data_columns)\n",
    "data_drift_report.show(mode='inline')"
   ]
  },
  {
   "cell_type": "code",
   "execution_count": null,
   "id": "536f180c",
   "metadata": {},
   "outputs": [],
   "source": []
  }
 ],
 "metadata": {
  "kernelspec": {
   "display_name": "caret",
   "language": "python",
   "name": "caret"
  },
  "language_info": {
   "codemirror_mode": {
    "name": "ipython",
    "version": 3
   },
   "file_extension": ".py",
   "mimetype": "text/x-python",
   "name": "python",
   "nbconvert_exporter": "python",
   "pygments_lexer": "ipython3",
   "version": "3.8.16"
  }
 },
 "nbformat": 4,
 "nbformat_minor": 5
}
